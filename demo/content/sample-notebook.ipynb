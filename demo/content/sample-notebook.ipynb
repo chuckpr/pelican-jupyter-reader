{
 "cells": [
  {
   "cell_type": "markdown",
   "metadata": {},
   "source": [
    "# This is a sample notebook"
   ]
  },
  {
   "cell_type": "markdown",
   "metadata": {},
   "source": [
    "Lorem ipsum dolor sit amet, consectetur adipiscing elit, sed do eiusmod tempor incididunt ut labore et dolore magna aliqua. Nisl nunc mi ipsum faucibus vitae aliquet nec. Ut sem nulla pharetra diam sit amet. Phasellus vestibulum lorem sed risus ultricies tristique nulla aliquet."
   ]
  },
  {
   "cell_type": "code",
   "execution_count": 1,
   "metadata": {},
   "outputs": [],
   "source": [
    "import matplotlib.pyplot as plt"
   ]
  },
  {
   "cell_type": "code",
   "execution_count": 2,
   "metadata": {},
   "outputs": [
    {
     "data": {
      "image/png": "[encoded data removed]",
      "text/plain": [
       "<Figure size 432x288 with 1 Axes>"
      ]
     },
     "metadata": {
      "needs_background": "light"
     },
     "output_type": "display_data"
    }
   ],
   "source": [
    "f, ax = plt.subplots()\n",
    "\n",
    "ax.plot([1, 2, 3, 4]);"
   ]
  },
  {
   "cell_type": "markdown",
   "metadata": {},
   "source": [
    "This Jupyter notebook/Pelican blog post demonstrates what you can do when you combine [Pelican](https://blog.getpelican.com) and [NBConvert](https://nbconvert.readthedocs.io/en/latest/) with a  simple Pelican Plugin, [pelican-jupyter-reader](https://github.com/chuckpr/pelican-jupyter-reader)."
   ]
  },
  {
   "cell_type": "markdown",
   "metadata": {},
   "source": [
    "The `pelicanconf.py` for this demo includes a configuration object that is passed to NBConvert. Here are the relevant bits in `pelicanconf.py`:"
   ]
  },
  {
   "cell_type": "code",
   "execution_count": 3,
   "metadata": {},
   "outputs": [
    {
     "name": "stdout",
     "output_type": "stream",
     "text": [
      "# Instantiate a config object and call it NBCONVERT_CONFIG\n",
      "from traitlets.config import Config\n",
      "NBCONVERT_CONFIG = Config()\n",
      "\n",
      "# This removes Jupyter input prompts\n",
      "NBCONVERT_CONFIG.HTMLExporter.exclude_input_prompt = True\n",
      "\n",
      "# This removes empty cells\n",
      "NBCONVERT_CONFIG.RegexRemovePreprocessor.enabled = True\n",
      "NBCONVERT_CONFIG.RegexRemovePreprocessor.patterns = ['\\s*\\Z']\n",
      "\n",
      "# This makes Jupyter magic cells have proper code highlighting\n",
      "# regardless of the language of the notebook kernel\n",
      "NBCONVERT_CONFIG.HighlightMagicsPreprocessor.enabled = True\n",
      "\n",
      "# This directs the NBConvert to a custom Jinja2 template\n",
      "# names demo.tpl\n",
      "NBCONVERT_CONFIG.HTMLExporter.template_path.append('.')\n",
      "NBCONVERT_CONFIG.HTMLExporter.template_file = 'demo'\n",
      "\n"
     ]
    }
   ],
   "source": [
    "!tail -n20 ../pelicanconf.py"
   ]
  },
  {
   "cell_type": "markdown",
   "metadata": {},
   "source": [
    "And, here is the custom NBConvert template (you can also just use one of the standard templates like `basic`, or `full`. "
   ]
  },
  {
   "cell_type": "code",
   "execution_count": 4,
   "metadata": {},
   "outputs": [
    {
     "name": "stdout",
     "output_type": "stream",
     "text": [
      "{% extends \"basic.tpl\" %}\n",
      "\n",
      "{% block codecell %}\n",
      "  {% if \"red-border\" in cell.metadata.get('tags', []) %}\n",
      "  <div style=\"border:thin solid red\">\n",
      "    {{ super() }}\n",
      "  </div>\n",
      "  {% elif \"display-none\" in cell.metadata.get('tags', []) %}\n",
      "  <div style=\"display:none\">\n",
      "    {{ super() }}\n",
      "  </div>\n",
      "  {% else %}\n",
      "  {{ super() }}\n",
      "  {% endif %}\n",
      "{% endblock codecell %}\n",
      "\n",
      "{% block input_group %}\n",
      "  {% if \"toggle-code\" in cell.metadata.get('tags', []) %}\n",
      "  <button class=\"toggle-button\">Toggle Code</button>\n",
      "  <div style=\"display: none\">\n",
      "    {{ super() }}\n",
      "  </div>\n",
      "  {% else %}\n",
      "  {{ super() }}\n",
      "  {% endif %}\n",
      "{% endblock %}"
     ]
    }
   ],
   "source": [
    "!cat ../demo.tpl"
   ]
  },
  {
   "cell_type": "markdown",
   "metadata": {},
   "source": [
    "The combination of custom NBConvert template and the `pelicanconf.py` settings from above enable the code styles and interactity below."
   ]
  },
  {
   "cell_type": "code",
   "execution_count": 5,
   "metadata": {},
   "outputs": [
    {
     "data": {
      "application/javascript": [
       "// note that Pygments uses the Javascript lexer here\n",
       "console.log('Hello, world!')\n",
       "const s = 'something'\n"
      ],
      "text/plain": [
       "<IPython.core.display.Javascript object>"
      ]
     },
     "metadata": {},
     "output_type": "display_data"
    }
   ],
   "source": [
    "%%javascript\n",
    "// note that Pygments uses the Javascript lexer here\n",
    "console.log('Hello, world!')\n",
    "const s = 'something'"
   ]
  },
  {
   "cell_type": "code",
   "execution_count": 6,
   "metadata": {},
   "outputs": [
    {
     "name": "stdout",
     "output_type": "stream",
     "text": [
      "Hello, world!\n"
     ]
    }
   ],
   "source": [
    "%%bash\n",
    "# ...and the Bash lexer here\n",
    "echo \"Hello, world!\""
   ]
  },
  {
   "cell_type": "code",
   "execution_count": 7,
   "metadata": {
    "tags": [
     "red-border"
    ]
   },
   "outputs": [
    {
     "name": "stdout",
     "output_type": "stream",
     "text": [
      "This cell will have a red border.\n"
     ]
    }
   ],
   "source": [
    "# By combining cell tags and a custom nbconvert template, we can style the output \n",
    "# of different cells easily. This cell has the tag \"red-border,\" and that tag is \n",
    "# handled in \"demo.tbl\" (you can find \"demo.tpl\" in the base directory of this \n",
    "# demo site).\n",
    "\n",
    "print('This cell will have a red border.')"
   ]
  },
  {
   "cell_type": "code",
   "execution_count": 8,
   "metadata": {
    "tags": [
     "toggle-code"
    ]
   },
   "outputs": [
    {
     "data": {
      "image/png": "[encoded data removed]",
      "text/plain": [
       "<Figure size 432x288 with 1 Axes>"
      ]
     },
     "metadata": {
      "needs_background": "light"
     },
     "output_type": "display_data"
    }
   ],
   "source": [
    "# We can add a toggle button for this code by using a custom Jinja2 template\n",
    "# that looks for the \"toggle-code\" tag.\n",
    "\n",
    "import numpy as np\n",
    "\n",
    "X = np.arange(0, 10, 0.1)\n",
    "Y = np.sin(X)\n",
    "\n",
    "f, ax = plt.subplots()\n",
    "\n",
    "ax.plot(X, Y);"
   ]
  },
  {
   "cell_type": "code",
   "execution_count": 9,
   "metadata": {
    "tags": [
     "display-none"
    ]
   },
   "outputs": [
    {
     "data": {
      "text/html": [
       "\n",
       "<script src=\"https://ajax.googleapis.com/ajax/libs/jquery/3.4.1/jquery.min.js\">\n",
       "</script>\n"
      ],
      "text/plain": [
       "<IPython.core.display.HTML object>"
      ]
     },
     "execution_count": 9,
     "metadata": {},
     "output_type": "execute_result"
    }
   ],
   "source": [
    "from IPython.display import HTML, IFrame\n",
    "# this cell wil be hidden in the output because it has the \"display-none\" tag\n",
    "HTML('''\n",
    "<script src=\"https://ajax.googleapis.com/ajax/libs/jquery/3.4.1/jquery.min.js\">\n",
    "</script>\n",
    "''')"
   ]
  },
  {
   "cell_type": "code",
   "execution_count": 10,
   "metadata": {
    "tags": [
     "display-none"
    ]
   },
   "outputs": [
    {
     "data": {
      "application/javascript": [
       "// This cell wil be hidden in the output because it has the \"display-none\" tag.\n",
       "// This script will become part of the rendered page in our site. \n",
       "$( \".toggle-button\" ).click(function() {\n",
       "  $(this).next(\"div\").slideToggle( \"fast\" );\n",
       "});\n"
      ],
      "text/plain": [
       "<IPython.core.display.Javascript object>"
      ]
     },
     "metadata": {},
     "output_type": "display_data"
    }
   ],
   "source": [
    "%%javascript\n",
    "// This cell wil be hidden in the output because it has the \"display-none\" tag.\n",
    "// This script will become part of the rendered page in our site. \n",
    "$( \".toggle-button\" ).click(function() {\n",
    "  $(this).next(\"div\").slideToggle( \"fast\" );\n",
    "});"
   ]
  },
  {
   "cell_type": "markdown",
   "metadata": {},
   "source": [
    "The empty cells below won't apper in your Pelican post."
   ]
  },
  {
   "cell_type": "code",
   "execution_count": null,
   "metadata": {},
   "outputs": [],
   "source": []
  },
  {
   "cell_type": "code",
   "execution_count": null,
   "metadata": {},
   "outputs": [],
   "source": []
  },
  {
   "cell_type": "code",
   "execution_count": null,
   "metadata": {},
   "outputs": [],
   "source": []
  },
  {
   "cell_type": "code",
   "execution_count": null,
   "metadata": {},
   "outputs": [],
   "source": []
  },
  {
   "cell_type": "code",
   "execution_count": null,
   "metadata": {},
   "outputs": [],
   "source": []
  }
 ],
 "metadata": {
  "kernelspec": {
   "display_name": "Python 3",
   "language": "python",
   "name": "python3"
  },
  "language_info": {
   "codemirror_mode": {
    "name": "ipython",
    "version": 3
   },
   "file_extension": ".py",
   "mimetype": "text/x-python",
   "name": "python",
   "nbconvert_exporter": "python",
   "pygments_lexer": "ipython3",
   "version": "3.7.6"
  },
  "pelican": {
   "category": "post",
   "date": "2020-04-20",
   "title": "Sample Blog Post"
  }
 },
 "nbformat": 4,
 "nbformat_minor": 4
}
